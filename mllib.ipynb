{
  "cells": [
    {
      "cell_type": "code",
      "execution_count": 82,
      "metadata": {
        "id": "BQcrpYuMQepq"
      },
      "outputs": [],
      "source": [
        "from pyspark.sql import SparkSession, Row, SQLContext\n",
        "import pyspark.sql.functions as F\n",
        "import pyspark.sql.types as T\n",
        "from pyspark.streaming import StreamingContext\n",
        "\n",
        "from pyspark import SparkContext, SparkConf"
      ]
    },
    {
      "cell_type": "code",
      "execution_count": 83,
      "metadata": {
        "id": "eh6fT1SHQepy"
      },
      "outputs": [],
      "source": [
        "sc = SparkContext.getOrCreate()"
      ]
    },
    {
      "cell_type": "markdown",
      "metadata": {
        "id": "p_dyBTu_Qepz"
      },
      "source": [
        "### SQLContext\n",
        "SQLContext - это точка входа в Spark SQL, который представляет собой модуль для обработки структурированных данных. \n",
        "После инициализации SQLContext можно использовать его для выполнения различных “sql-подобных” операций "
      ]
    },
    {
      "cell_type": "code",
      "execution_count": 84,
      "metadata": {
        "id": "7QvPzQoNQepz"
      },
      "outputs": [],
      "source": [
        "from pyspark.sql import SQLContext\n",
        "\n",
        "sql_context = SQLContext(sc)"
      ]
    },
    {
      "cell_type": "markdown",
      "metadata": {
        "id": "yBXOPJIaQep0"
      },
      "source": [
        "### SparkSession\n",
        "Spark 2.0 представила новую точку входа под названием Spark Session, которая по существу заменила как SQLContext, так и HiveContext."
      ]
    },
    {
      "cell_type": "code",
      "execution_count": 85,
      "metadata": {
        "id": "e8hlHkjOQep0"
      },
      "outputs": [],
      "source": [
        "from pyspark.sql import SparkSession\n",
        "spark_session = SparkSession \\\n",
        "    .builder \\\n",
        "    .enableHiveSupport() \\\n",
        "    .getOrCreate()\n",
        "# Two ways you can access spark context from spark session\n",
        "spark_context = spark_session._sc\n",
        "spark_context = spark_session.sparkContext"
      ]
    },
    {
      "cell_type": "code",
      "execution_count": 86,
      "metadata": {
        "id": "HRFNkYIgQeps"
      },
      "outputs": [],
      "source": [
        "def getDStream(spark,batch_interval=5):\n",
        "    sc=spark.sparkContext\n",
        "    sc.setLogLevel(\"ERROR\")\n",
        "\n",
        "    #Create streaming context, with required batch interval\n",
        "    ssc = StreamingContext(sc, batch_interval)\n",
        "\n",
        "    #Checkpointing needed for stateful transforms\n",
        "    ssc.checkpoint(\"checkpoint\")\n",
        "    \n",
        "    # Create a DStream that represents streaming data from a network socket\n",
        "    # See https://spark.apache.org/docs/latest/streaming-programming-guide.html#a-quick-example\n",
        "    dstream = ssc.socketTextStream(\"localhost\", 9999)\n",
        "    \n",
        "    return [sc,ssc,dstream]"
      ]
    },
    {
      "cell_type": "code",
      "execution_count": 87,
      "metadata": {
        "id": "Jwh9nf3-Qept"
      },
      "outputs": [],
      "source": [
        "[sc,ssc,dstream]=getDStream(spark=spark_session,batch_interval=10)\n",
        "\n",
        "dstream.pprint()"
      ]
    },
    {
      "cell_type": "code",
      "execution_count": 88,
      "metadata": {
        "id": "19FdX-QaQep0"
      },
      "outputs": [],
      "source": [
        "import os\n",
        "from os.path import isfile, join \n",
        "\n",
        "loc = os.path.abspath(\"\")\n",
        "data_loc = f\"{loc}/data/\""
      ]
    },
    {
      "cell_type": "code",
      "execution_count": 89,
      "metadata": {
        "id": "uTTUxS_VQep0"
      },
      "outputs": [],
      "source": [
        "emp = [(1, \"AAA\", \"dept1\", 1000, \"2022-02-01 15:12:13\"),\n",
        "    (2, \"BBB\", \"dept1\", 1100, \"2022-04-01 5:12:3\"),\n",
        "    (3, \"CCC\", \"dept1\", 3000, \"2022-06-05 1:2:13\"),\n",
        "    (4, \"DDD\", \"dept1\", 1500, \"2022-08-10 10:52:53\"),\n",
        "    (5, \"EEE\", \"dept2\", 8000, \"2022-01-11 5:52:43\"),\n",
        "    (6, \"FFF\", \"dept2\", 7200, \"2022-04-14 19:32:33\"),\n",
        "    (7, \"GGG\", \"dept3\", 7100, \"2022-02-21 15:42:43\"),\n",
        "    (8, \"HHH\", \"dept3\", 3700, \"2022-09-25 15:32:33\"),\n",
        "    (9, \"III\", \"dept3\", 4500, \"2022-10-15 15:22:23\"),\n",
        "    (10, \"JJJ\", \"dept5\", 3400, \"2022-12-17 15:14:17\")]\n",
        "empdf = spark_session.createDataFrame(emp, [\"id\", \"name\", \"dept\", \"salary\", \"date\"])"
      ]
    },
    {
      "cell_type": "code",
      "execution_count": 90,
      "metadata": {
        "colab": {
          "base_uri": "https://localhost:8080/"
        },
        "id": "ecGvhjrlQep1",
        "outputId": "afd6268f-3624-4500-92e2-6b8323126318"
      },
      "outputs": [
        {
          "name": "stdout",
          "output_type": "stream",
          "text": [
            "+-------------------+----------+\n",
            "|               date|next_month|\n",
            "+-------------------+----------+\n",
            "|2022-02-01 15:12:13|2022-03-01|\n",
            "|  2022-04-01 5:12:3|2022-05-01|\n",
            "|  2022-06-05 1:2:13|2022-07-05|\n",
            "|2022-08-10 10:52:53|2022-09-10|\n",
            "| 2022-01-11 5:52:43|2022-02-11|\n",
            "+-------------------+----------+\n",
            "only showing top 5 rows\n",
            "\n"
          ]
        }
      ],
      "source": [
        "df = (empdf\n",
        "    .select(\"date\")\n",
        "    .withColumn(\"next_month\", F.add_months(\"date\", 1)))\n",
        "df.show(5)"
      ]
    },
    {
      "cell_type": "markdown",
      "metadata": {
        "id": "94ybXUJ4Qep1"
      },
      "source": [
        "### Работа с заготовленным датасетом"
      ]
    },
    {
      "cell_type": "code",
      "execution_count": 91,
      "metadata": {
        "colab": {
          "base_uri": "https://localhost:8080/"
        },
        "id": "k2U1MbD5Qep1",
        "outputId": "40e19529-dd69-4a24-c1d6-e4be6f58fe44"
      },
      "outputs": [
        {
          "name": "stdout",
          "output_type": "stream",
          "text": [
            "root\n",
            " |-- id: string (nullable = true)\n",
            " |-- ticker: string (nullable = true)\n",
            " |-- growth: string (nullable = true)\n",
            " |-- title: string (nullable = true)\n",
            " |-- flair: string (nullable = true)\n",
            " |-- score: integer (nullable = true)\n",
            " |-- upvote_ratio: double (nullable = true)\n",
            " |-- author: string (nullable = true)\n",
            " |-- num_comments: integer (nullable = true)\n",
            " |-- text: string (nullable = true)\n",
            " |-- created: timestamp (nullable = true)\n",
            " |-- url: string (nullable = true)\n",
            " |-- timestamp: integer (nullable = true)\n",
            "\n"
          ]
        }
      ],
      "source": [
        "df = spark_session.read.csv(\"/content/dataset.csv\", inferSchema=True, header=True)\n",
        "df.printSchema()"
      ]
    },
    {
      "cell_type": "code",
      "execution_count": 92,
      "metadata": {
        "colab": {
          "base_uri": "https://localhost:8080/"
        },
        "id": "iyW65TD8Qep2",
        "outputId": "80930b00-d3b7-461c-ff17-6c8985eaaeaa"
      },
      "outputs": [
        {
          "name": "stdout",
          "output_type": "stream",
          "text": [
            "+------+------+------+--------------------+----------+-----+------------+--------------------+------------+--------------------+-------------------+--------------------+----------+\n",
            "|    id|ticker|growth|               title|     flair|score|upvote_ratio|              author|num_comments|                text|            created|                 url| timestamp|\n",
            "+------+------+------+--------------------+----------+-----+------------+--------------------+------------+--------------------+-------------------+--------------------+----------+\n",
            "|krsa5c|  None|   N/A|       update $ yolo|      YOLO|   15|         1.0|            dhsmatt2|         290|all i am still ho...|2021-01-06 00:00:00|https://www.reddi...|1609909200|\n",
            "|krxpdq|  None|   N/A|upcoming nio day ...|Discussion|    9|         1.0|Fancy-Blackberry-332|          60|nio day is coming...|2021-01-06 00:00:00|https://www.reddi...|1609909200|\n",
            "+------+------+------+--------------------+----------+-----+------------+--------------------+------------+--------------------+-------------------+--------------------+----------+\n",
            "only showing top 2 rows\n",
            "\n"
          ]
        }
      ],
      "source": [
        "df.show(2)"
      ]
    },
    {
      "cell_type": "code",
      "execution_count": 93,
      "metadata": {
        "colab": {
          "base_uri": "https://localhost:8080/"
        },
        "id": "YpcpBerfQep3",
        "outputId": "718e28f0-f3e4-493f-fb0c-019bc3ad8279"
      },
      "outputs": [
        {
          "name": "stdout",
          "output_type": "stream",
          "text": [
            "+--------------------+----------+-----+------------+\n",
            "|              author|     flair|score|upvote_ratio|\n",
            "+--------------------+----------+-----+------------+\n",
            "|            dhsmatt2|      YOLO|   15|         1.0|\n",
            "|Fancy-Blackberry-332|Discussion|    9|         1.0|\n",
            "|           JKK201519|      YOLO|    5|        0.86|\n",
            "|             drtywlf|Discussion|    8|         1.0|\n",
            "|             MC_lgnd|Discussion|    6|        0.88|\n",
            "+--------------------+----------+-----+------------+\n",
            "only showing top 5 rows\n",
            "\n"
          ]
        }
      ],
      "source": [
        "df_crop = df.select(\"author\", \"flair\", \"score\", \"upvote_ratio\")\n",
        "df_crop.show(5)"
      ]
    },
    {
      "cell_type": "markdown",
      "metadata": {
        "id": "T3y6sg8XQep4"
      },
      "source": [
        "### Train/test split"
      ]
    },
    {
      "cell_type": "code",
      "execution_count": 94,
      "metadata": {
        "id": "oMuH7P7uQep4"
      },
      "outputs": [],
      "source": [
        "train, test = df_crop.randomSplit([0.7, 0.3], seed=7)"
      ]
    },
    {
      "cell_type": "code",
      "execution_count": 95,
      "metadata": {
        "colab": {
          "base_uri": "https://localhost:8080/"
        },
        "id": "TwIWQA2gQep4",
        "outputId": "9ace2fe0-a5cd-45cf-e7c6-7c25d985527e"
      },
      "outputs": [
        {
          "name": "stdout",
          "output_type": "stream",
          "text": [
            "Train set length: 536 timestamps\n",
            "Test set length: 252 timestamps\n"
          ]
        }
      ],
      "source": [
        "print(f\"Train set length: {train.count()} timestamps\")\n",
        "print(f\"Test set length: {test.count()} timestamps\")"
      ]
    },
    {
      "cell_type": "code",
      "execution_count": 96,
      "metadata": {
        "colab": {
          "base_uri": "https://localhost:8080/"
        },
        "id": "lnLPvq3AQep4",
        "outputId": "f38dc618-9bdc-4f11-b689-ae77bcbd0f59"
      },
      "outputs": [
        {
          "name": "stdout",
          "output_type": "stream",
          "text": [
            "+------+----------+-----+------------+\n",
            "|author|     flair|score|upvote_ratio|\n",
            "+------+----------+-----+------------+\n",
            "|#NAME?|Discussion|   16|         1.0|\n",
            "|#NAME?|      News|   15|        0.76|\n",
            "+------+----------+-----+------------+\n",
            "only showing top 2 rows\n",
            "\n"
          ]
        }
      ],
      "source": [
        "train.show(2)"
      ]
    },
    {
      "cell_type": "markdown",
      "metadata": {
        "id": "9Ak9gqdaQep4"
      },
      "source": [
        "### Dtypes\n",
        "Нам нужно определить, какие столбцы являются числовыми, а какие категориальными."
      ]
    },
    {
      "cell_type": "code",
      "execution_count": 97,
      "metadata": {
        "colab": {
          "base_uri": "https://localhost:8080/"
        },
        "id": "saA-n9wBQep5",
        "outputId": "bc94c366-2caf-411e-9d5c-f2207abe68f7"
      },
      "outputs": [
        {
          "data": {
            "text/plain": [
              "[('author', 'string'),\n",
              " ('flair', 'string'),\n",
              " ('score', 'int'),\n",
              " ('upvote_ratio', 'double')]"
            ]
          },
          "execution_count": 97,
          "metadata": {},
          "output_type": "execute_result"
        }
      ],
      "source": [
        "train.dtypes"
      ]
    },
    {
      "cell_type": "code",
      "execution_count": 98,
      "metadata": {
        "id": "dMjs1QAuQep5"
      },
      "outputs": [],
      "source": [
        "catCols = [x for (x, dataType) in train.dtypes if dataType == \"string\"]\n",
        "numCols = [\n",
        "    x for (x, dataType) in train.dtypes if ((dataType == \"double\" | dataType == \"int\") & (x != \"isFraud\"))\n",
        "]"
      ]
    },
    {
      "cell_type": "code",
      "execution_count": 99,
      "metadata": {
        "colab": {
          "base_uri": "https://localhost:8080/"
        },
        "id": "yzPk3nZ8Qep5",
        "outputId": "5acf2b73-4368-48bc-cce1-960abc9c31ad"
      },
      "outputs": [
        {
          "name": "stdout",
          "output_type": "stream",
          "text": [
            "['upvote_ratio']\n",
            "['author', 'flair']\n"
          ]
        }
      ],
      "source": [
        "print(numCols)\n",
        "print(catCols)"
      ]
    },
    {
      "cell_type": "markdown",
      "metadata": {
        "id": "0WDb2foQQep5"
      },
      "source": [
        "### One hot encoding"
      ]
    },
    {
      "cell_type": "code",
      "execution_count": 100,
      "metadata": {
        "colab": {
          "base_uri": "https://localhost:8080/"
        },
        "id": "ymvjqy6yQep5",
        "outputId": "4da591bc-2557-4bb6-e547-0b76f5a4c2f3"
      },
      "outputs": [
        {
          "name": "stdout",
          "output_type": "stream",
          "text": [
            "+-------------+\n",
            "|count(author)|\n",
            "+-------------+\n",
            "|          521|\n",
            "+-------------+\n",
            "\n"
          ]
        }
      ],
      "source": [
        "train.agg(F.countDistinct(\"author\")).show()"
      ]
    },
    {
      "cell_type": "code",
      "execution_count": 101,
      "metadata": {
        "colab": {
          "base_uri": "https://localhost:8080/"
        },
        "id": "rztsS850ZSdF",
        "outputId": "c3765871-abb6-4247-8837-68d276cfce19"
      },
      "outputs": [
        {
          "name": "stdout",
          "output_type": "stream",
          "text": [
            "+---------+\n",
            "|count(id)|\n",
            "+---------+\n",
            "|      786|\n",
            "+---------+\n",
            "\n"
          ]
        }
      ],
      "source": [
        "df.agg(F.countDistinct(\"id\")).show()"
      ]
    },
    {
      "cell_type": "code",
      "execution_count": 102,
      "metadata": {
        "colab": {
          "base_uri": "https://localhost:8080/"
        },
        "id": "IkIld--HQep5",
        "outputId": "afaa732d-7ea9-4cea-e0e5-acf039f7c474"
      },
      "outputs": [
        {
          "name": "stdout",
          "output_type": "stream",
          "text": [
            "+------------------+-----+\n",
            "|             flair|count|\n",
            "+------------------+-----+\n",
            "|        Discussion|  291|\n",
            "|              YOLO|   76|\n",
            "|              Mods|    1|\n",
            "|  Daily Discussion|    3|\n",
            "|              Meme|    3|\n",
            "|                DD|   67|\n",
            "|              Gain|   28|\n",
            "|Weekend Discussion|    1|\n",
            "|             Chart|    5|\n",
            "|              Loss|    5|\n",
            "|              News|   56|\n",
            "+------------------+-----+\n",
            "\n"
          ]
        }
      ],
      "source": [
        "train.groupBy(\"flair\").count().show()"
      ]
    },
    {
      "cell_type": "code",
      "execution_count": 103,
      "metadata": {
        "id": "SAB9IXFGQep6"
      },
      "outputs": [],
      "source": [
        "from pyspark.ml.feature import (\n",
        "    OneHotEncoder,\n",
        "    StringIndexer,\n",
        ")"
      ]
    },
    {
      "cell_type": "code",
      "execution_count": 104,
      "metadata": {
        "id": "h_21KWToQep6"
      },
      "outputs": [],
      "source": [
        "string_indexer = [\n",
        "    StringIndexer(inputCol=x, outputCol=x + \"_StringIndexer\", handleInvalid=\"skip\")\n",
        "    for x in catCols\n",
        "]"
      ]
    },
    {
      "cell_type": "code",
      "execution_count": 105,
      "metadata": {
        "colab": {
          "base_uri": "https://localhost:8080/"
        },
        "id": "f8NXIpRYQep6",
        "outputId": "e5e82330-0af6-4c45-fe65-78603e35de97"
      },
      "outputs": [
        {
          "data": {
            "text/plain": [
              "[StringIndexer_e975c584bcdc, StringIndexer_c1b78d5a254f]"
            ]
          },
          "execution_count": 105,
          "metadata": {},
          "output_type": "execute_result"
        }
      ],
      "source": [
        "string_indexer"
      ]
    },
    {
      "cell_type": "code",
      "execution_count": 106,
      "metadata": {
        "id": "jpv9JjWbQep6"
      },
      "outputs": [],
      "source": [
        "one_hot_encoder = [\n",
        "    OneHotEncoder(\n",
        "        inputCols=[f\"{x}_StringIndexer\" for x in catCols],\n",
        "        outputCols=[f\"{x}_OneHotEncoder\" for x in catCols],\n",
        "    )\n",
        "]"
      ]
    },
    {
      "cell_type": "code",
      "execution_count": 107,
      "metadata": {
        "colab": {
          "base_uri": "https://localhost:8080/"
        },
        "id": "o4b28s8IQep6",
        "outputId": "c475bdd7-d23d-4aca-fc36-e577642cf520"
      },
      "outputs": [
        {
          "data": {
            "text/plain": [
              "[OneHotEncoder_4ee91cac41f3]"
            ]
          },
          "execution_count": 107,
          "metadata": {},
          "output_type": "execute_result"
        }
      ],
      "source": [
        "one_hot_encoder"
      ]
    },
    {
      "cell_type": "markdown",
      "metadata": {
        "id": "TRbOnaUpQep7"
      },
      "source": [
        "### Vector assembling\n",
        "Объединяет значения входных столбцов в единый вектор\n"
      ]
    },
    {
      "cell_type": "code",
      "execution_count": 108,
      "metadata": {
        "id": "bMEfhQYeQep7"
      },
      "outputs": [],
      "source": [
        "from pyspark.ml.feature import VectorAssembler"
      ]
    },
    {
      "cell_type": "code",
      "execution_count": 109,
      "metadata": {
        "id": "WVX5ud1JQep7"
      },
      "outputs": [],
      "source": [
        "assemblerInput = [x for x in numCols]\n",
        "assemblerInput += [f\"{x}_OneHotEncoder\" for x in catCols]"
      ]
    },
    {
      "cell_type": "code",
      "execution_count": 110,
      "metadata": {
        "colab": {
          "base_uri": "https://localhost:8080/"
        },
        "id": "E3p4h9_NQep7",
        "outputId": "558cdef4-f77d-4285-82e9-84ab1d546220"
      },
      "outputs": [
        {
          "data": {
            "text/plain": [
              "['upvote_ratio', 'author_OneHotEncoder', 'flair_OneHotEncoder']"
            ]
          },
          "execution_count": 110,
          "metadata": {},
          "output_type": "execute_result"
        }
      ],
      "source": [
        "assemblerInput"
      ]
    },
    {
      "cell_type": "code",
      "execution_count": 111,
      "metadata": {
        "id": "zj-MXIK0Qep7"
      },
      "outputs": [],
      "source": [
        "vector_assembler = VectorAssembler(\n",
        "    inputCols=assemblerInput, outputCol=\"VectorAssembler_features\"\n",
        ")"
      ]
    },
    {
      "cell_type": "code",
      "execution_count": 112,
      "metadata": {
        "id": "3GyBiAxTQep8"
      },
      "outputs": [],
      "source": [
        "stages = []\n",
        "stages += string_indexer\n",
        "stages += one_hot_encoder\n",
        "stages += [vector_assembler]\n"
      ]
    },
    {
      "cell_type": "code",
      "execution_count": 113,
      "metadata": {
        "colab": {
          "base_uri": "https://localhost:8080/"
        },
        "id": "R9W05CzqQep8",
        "outputId": "f1825946-1421-4a9f-9ca1-20e9b1eb9eb8"
      },
      "outputs": [
        {
          "data": {
            "text/plain": [
              "[StringIndexer_e975c584bcdc,\n",
              " StringIndexer_c1b78d5a254f,\n",
              " OneHotEncoder_4ee91cac41f3,\n",
              " VectorAssembler_f4c7b01ba3a4]"
            ]
          },
          "execution_count": 113,
          "metadata": {},
          "output_type": "execute_result"
        }
      ],
      "source": [
        "stages"
      ]
    },
    {
      "cell_type": "code",
      "execution_count": 114,
      "metadata": {
        "colab": {
          "base_uri": "https://localhost:8080/"
        },
        "id": "6kJ6yRguQep8",
        "outputId": "437d6e9e-849c-4dd8-9950-78fdee54ccff"
      },
      "outputs": [
        {
          "name": "stdout",
          "output_type": "stream",
          "text": [
            "CPU times: user 41.4 ms, sys: 12 ms, total: 53.4 ms\n",
            "Wall time: 1.06 s\n"
          ]
        }
      ],
      "source": [
        "%%time\n",
        "from pyspark.ml import Pipeline\n",
        "\n",
        "pipeline = Pipeline().setStages(stages)\n",
        "model = pipeline.fit(train)\n",
        "\n",
        "pp_df = model.transform(test)"
      ]
    },
    {
      "cell_type": "code",
      "execution_count": 115,
      "metadata": {
        "colab": {
          "base_uri": "https://localhost:8080/"
        },
        "id": "TQZSSN5WQep8",
        "outputId": "0f624184-7d89-4a02-b7d0-d8bc564b151a"
      },
      "outputs": [
        {
          "name": "stdout",
          "output_type": "stream",
          "text": [
            "+--------------------+--------------------+--------------------+-------------------+-------------------+\n",
            "|author_OneHotEncoder|author              |author_StringIndexer|flair_OneHotEncoder|flair_StringIndexer|\n",
            "+--------------------+--------------------+--------------------+-------------------+-------------------+\n",
            "|(520,[0],[1.0])     |AutoModerator       |0.0                 |(10,[7],[1.0])     |7.0                |\n",
            "|(520,[60],[1.0])    |CompetitionForward67|60.0                |(10,[0],[1.0])     |0.0                |\n",
            "|(520,[64],[1.0])    |CovidLiveFL         |64.0                |(10,[1],[1.0])     |1.0                |\n",
            "|(520,[137],[1.0])   |Lucky-Designer3469  |137.0               |(10,[0],[1.0])     |0.0                |\n",
            "|(520,[214],[1.0])   |Simplifyingication  |214.0               |(10,[4],[1.0])     |4.0                |\n",
            "|(520,[226],[1.0])   |Swiss-Rock          |226.0               |(10,[0],[1.0])     |0.0                |\n",
            "|(520,[233],[1.0])   |Tereek7504          |233.0               |(10,[1],[1.0])     |1.0                |\n",
            "|(520,[240],[1.0])   |Thiizic             |240.0               |(10,[1],[1.0])     |1.0                |\n",
            "|(520,[245],[1.0])   |Top_Satisfaction_815|245.0               |(10,[3],[1.0])     |3.0                |\n",
            "|(520,[278],[1.0])   |a1mart              |278.0               |(10,[2],[1.0])     |2.0                |\n",
            "|(520,[294],[1.0])   |anon10384           |294.0               |(10,[0],[1.0])     |0.0                |\n",
            "|(520,[331],[1.0])   |dhsmatt2            |331.0               |(10,[0],[1.0])     |0.0                |\n",
            "|(520,[343],[1.0])   |flovidchan          |343.0               |(10,[0],[1.0])     |0.0                |\n",
            "|(520,[439],[1.0])   |powahTEN            |439.0               |(10,[0],[1.0])     |0.0                |\n",
            "|(520,[465],[1.0])   |slipperyslevine     |465.0               |(10,[2],[1.0])     |2.0                |\n",
            "|(520,[513],[1.0])   |xhdt                |513.0               |(10,[0],[1.0])     |0.0                |\n",
            "+--------------------+--------------------+--------------------+-------------------+-------------------+\n",
            "\n"
          ]
        }
      ],
      "source": [
        "pp_df.select(\n",
        "    \"author_OneHotEncoder\", \"author\", \"author_StringIndexer\", \"flair_OneHotEncoder\", \"flair_StringIndexer\",\n",
        ").show(truncate=False)"
      ]
    },
    {
      "cell_type": "code",
      "execution_count": 116,
      "metadata": {
        "colab": {
          "base_uri": "https://localhost:8080/"
        },
        "id": "Kt4WpNliajbG",
        "outputId": "bfa906ce-f981-44a8-9ebd-d27899e5b67b"
      },
      "outputs": [
        {
          "name": "stdout",
          "output_type": "stream",
          "text": [
            "+------------------------+\n",
            "|VectorAssembler_features|\n",
            "+------------------------+\n",
            "|    (531,[0,1,528],[1...|\n",
            "|    (531,[0,61,521],[...|\n",
            "|    (531,[0,65,522],[...|\n",
            "|    (531,[0,138,521],...|\n",
            "|    (531,[0,215,525],...|\n",
            "+------------------------+\n",
            "only showing top 5 rows\n",
            "\n"
          ]
        }
      ],
      "source": [
        "pp_df.select(\"VectorAssembler_features\").show(5)"
      ]
    },
    {
      "cell_type": "code",
      "execution_count": 116,
      "metadata": {
        "id": "_eqDLwlvQep-"
      },
      "outputs": [],
      "source": []
    }
  ],
  "metadata": {
    "accelerator": "GPU",
    "colab": {
      "collapsed_sections": [],
      "provenance": []
    },
    "kernelspec": {
      "display_name": "Python 3.10.5 ('venv': venv)",
      "language": "python",
      "name": "python3"
    },
    "language_info": {
      "codemirror_mode": {
        "name": "ipython",
        "version": 3
      },
      "file_extension": ".py",
      "mimetype": "text/x-python",
      "name": "python",
      "nbconvert_exporter": "python",
      "pygments_lexer": "ipython3",
      "version": "3.10.5"
    },
    "vscode": {
      "interpreter": {
        "hash": "9fc1495eec5db328477dbc7547b9b57c63be0ca6b485fd8212258a5f904cc6e7"
      }
    }
  },
  "nbformat": 4,
  "nbformat_minor": 0
}
