{
 "cells": [
  {
   "cell_type": "code",
   "execution_count": 1,
   "metadata": {},
   "outputs": [
    {
     "name": "stderr",
     "output_type": "stream",
     "text": [
      "WARNING:root:OSError while attempting to symlink the latest log directory\n"
     ]
    }
   ],
   "source": [
    "from airflow import DAG\n",
    "from airflow.operators.bash import BashOperator\n",
    "from datetime import datetime, timedelta\n",
    "\n",
    "with DAG('extract_dag',\n",
    "\n",
    "         schedule_interval=None,\n",
    "\n",
    "         start_date=datetime(2022, 1, 1),\n",
    "\n",
    "         catchup=False) as dag:\n",
    "\n",
    "    extract_task = BashOperator(\n",
    "\n",
    "        task_id='extract_task',\n",
    "\n",
    "        bash_command='wget -c https://datahub.io/core/top-level-domain-names/r/top-level-domain-names.csv.csv -O /root/airflow-extract-data.csv',\n",
    "\n",
    "    )\n",
    "\n",
    "    extract_task\n"
   ]
  },
  {
   "cell_type": "code",
   "execution_count": 2,
   "metadata": {},
   "outputs": [],
   "source": [
    "'''\n",
    "Допустим, к нам пришел аналитик и попросил раз в день наливать данные в определенную таблицу. Он подготовил всю информацию:\n",
    "что откуда нужно брать, когда нужно запускаться, с каким SLA. Вот пример того, как мы могли бы описывать наш пайплайн.\n",
    "'''\n",
    "\n",
    "dag = DAG(\n",
    "   dag_id=\"load_some_data\",\n",
    "   schedule_interval=\"0 1 * * *\",\n",
    "   default_args={\n",
    "       \"start_date\": datetime(2020, 4, 20),\n",
    "       \"owner\": \"DE\",\n",
    "       \"depends_on_past\": False,\n",
    "       \"sla\": timedelta(minutes=45),\n",
    "       \"email\": \"<your_email_here>\",\n",
    "       \"email_on_failure\": True,\n",
    "       \"retries\": 2,\n",
    "       \"retry_delay\": timedelta(minutes=5)\n",
    "   }\n",
    ")"
   ]
  }
 ],
 "metadata": {
  "kernelspec": {
   "display_name": "Python 3.10.5 ('venv': venv)",
   "language": "python",
   "name": "python3"
  },
  "language_info": {
   "codemirror_mode": {
    "name": "ipython",
    "version": 3
   },
   "file_extension": ".py",
   "mimetype": "text/x-python",
   "name": "python",
   "nbconvert_exporter": "python",
   "pygments_lexer": "ipython3",
   "version": "3.10.5"
  },
  "orig_nbformat": 4,
  "vscode": {
   "interpreter": {
    "hash": "9fc1495eec5db328477dbc7547b9b57c63be0ca6b485fd8212258a5f904cc6e7"
   }
  }
 },
 "nbformat": 4,
 "nbformat_minor": 2
}
